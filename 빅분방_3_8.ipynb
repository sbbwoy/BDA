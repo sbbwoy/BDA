{
  "nbformat": 4,
  "nbformat_minor": 0,
  "metadata": {
    "colab": {
      "name": "빅분방_3/8",
      "provenance": [],
      "authorship_tag": "ABX9TyMqz2rqD4NSK6gdAGnpQFTd",
      "include_colab_link": true
    },
    "kernelspec": {
      "name": "python3",
      "display_name": "Python 3"
    },
    "language_info": {
      "name": "python"
    }
  },
  "cells": [
    {
      "cell_type": "markdown",
      "metadata": {
        "id": "view-in-github",
        "colab_type": "text"
      },
      "source": [
        "<a href=\"https://colab.research.google.com/github/sbbwoy/BDA/blob/main/%EB%B9%85%EB%B6%84%EB%B0%A9_3_8.ipynb\" target=\"_parent\"><img src=\"https://colab.research.google.com/assets/colab-badge.svg\" alt=\"Open In Colab\"/></a>"
      ]
    },
    {
      "cell_type": "code",
      "execution_count": 1,
      "metadata": {
        "colab": {
          "base_uri": "https://localhost:8080/"
        },
        "id": "RWvLlem8SyA9",
        "outputId": "68b80514-6607-4115-f136-a416d118db2f"
      },
      "outputs": [
        {
          "output_type": "stream",
          "name": "stdout",
          "text": [
            "hello everybody\n"
          ]
        }
      ],
      "source": [
        "\n",
        "print('hello everybody')"
      ]
    },
    {
      "cell_type": "markdown",
      "source": [
        "Variables in STAT\n",
        "1. quantitiative = numerical\n",
        "\n",
        "    a. continuous: 키, 몸무게, 혈압\n",
        "\n",
        "    b. discrete: 서울시 자동차 사고 건수, 자녀 수, the number of something\n",
        "\n",
        "2. categorical\n",
        "\n",
        "    a. ordinal: 설문조사\n",
        "\n",
        "    b. nominal: 혈액형, 색깔, 성별\n",
        "\n",
        "--> 전부 numerical로 변환해 분석"
      ],
      "metadata": {
        "id": "XxItEMzES7_6"
      }
    },
    {
      "cell_type": "code",
      "source": [
        "print(type('A'))\n",
        "print(type(1))\n",
        "print(type(1.5))\n",
        "print(type(True))"
      ],
      "metadata": {
        "colab": {
          "base_uri": "https://localhost:8080/"
        },
        "id": "lw6kiYpHS2Ww",
        "outputId": "6b31445b-91ba-432e-d61a-39b943a619e0"
      },
      "execution_count": 2,
      "outputs": [
        {
          "output_type": "stream",
          "name": "stdout",
          "text": [
            "<class 'str'>\n",
            "<class 'int'>\n",
            "<class 'float'>\n",
            "<class 'bool'>\n"
          ]
        }
      ]
    },
    {
      "cell_type": "markdown",
      "source": [
        "##제어문\n",
        "\n",
        "1. if 문"
      ],
      "metadata": {
        "id": "zHemBXZkWJjX"
      }
    },
    {
      "cell_type": "code",
      "source": [
        "age = int(input('what is your age?: '))\n",
        "\n",
        "if age>18: print('You can drive.')\n",
        "else: print('Sorry, you can\\'t drive')"
      ],
      "metadata": {
        "colab": {
          "base_uri": "https://localhost:8080/"
        },
        "id": "vT-ife4eWVog",
        "outputId": "fec08a12-9010-456c-9484-d84844d3a62b"
      },
      "execution_count": 3,
      "outputs": [
        {
          "output_type": "stream",
          "name": "stdout",
          "text": [
            "what is your age?: 26\n",
            "You can drive.\n"
          ]
        }
      ]
    },
    {
      "cell_type": "code",
      "source": [
        "N = int(input('입력하는 숫자는 6과 20 사이의 짝수인가?: '))\n",
        "\n",
        "if N % 2 == 0:\n",
        "    if N >= 2 and N <= 5:print('No')\n",
        "    elif N >= 6 and N <= 20: print('Yes')\n",
        "    elif N > 20: print('No')\n",
        "else: print('No')"
      ],
      "metadata": {
        "colab": {
          "base_uri": "https://localhost:8080/"
        },
        "id": "TGK9GLJmXVN6",
        "outputId": "903731dd-adf8-4a03-cb32-11d0b1e0b175"
      },
      "execution_count": 4,
      "outputs": [
        {
          "output_type": "stream",
          "name": "stdout",
          "text": [
            "입력하는 숫자는 6과 20 사이의 짝수인가?: 15\n",
            "No\n"
          ]
        }
      ]
    },
    {
      "cell_type": "markdown",
      "source": [
        "2. for문"
      ],
      "metadata": {
        "id": "DwKmSVscY8id"
      }
    },
    {
      "cell_type": "code",
      "source": [
        "#List of numbers\n",
        "numbers = [6, 5, 3, 8, 4, 2, 5, 4, 11]\n",
        "\n",
        "#variable to store the sum\n",
        "sum = 0\n",
        "\n",
        "# iterate over the list\n",
        "for val in numbers:\n",
        "    sum += val\n",
        "\n",
        "print('The sum is', sum)"
      ],
      "metadata": {
        "colab": {
          "base_uri": "https://localhost:8080/"
        },
        "id": "LPOtiwDYY-k2",
        "outputId": "49919a1a-1ac6-4856-9269-27919de154ed"
      },
      "execution_count": 5,
      "outputs": [
        {
          "output_type": "stream",
          "name": "stdout",
          "text": [
            "The sum is 48\n"
          ]
        }
      ]
    },
    {
      "cell_type": "code",
      "source": [
        "N = int(input('number: '))\n",
        "\n",
        "sum = 0\n",
        "\n",
        "for i in range(1, N+1):\n",
        "    sum += i\n",
        "\n",
        "print('The sum of 1 to the number is', sum)"
      ],
      "metadata": {
        "colab": {
          "base_uri": "https://localhost:8080/"
        },
        "id": "yU0JeRzNaI7D",
        "outputId": "f95f3a6c-4842-460b-ae06-8e0d288ef442"
      },
      "execution_count": 6,
      "outputs": [
        {
          "output_type": "stream",
          "name": "stdout",
          "text": [
            "number: 10\n",
            "The sum of 1 to the number is 55\n"
          ]
        }
      ]
    },
    {
      "cell_type": "markdown",
      "source": [
        "3. while문"
      ],
      "metadata": {
        "id": "Eu9CqPtzaHl6"
      }
    },
    {
      "cell_type": "code",
      "source": [
        "N = int(input('number: '))\n",
        "\n",
        "i, sum = 1, 0\n",
        "\n",
        "while i<=N:\n",
        "    sum += i\n",
        "    i += 1\n",
        "\n",
        "print('The sum of 1 to the number is', sum)"
      ],
      "metadata": {
        "colab": {
          "base_uri": "https://localhost:8080/"
        },
        "id": "5QQpyLLdbKgT",
        "outputId": "dbdd0de1-c466-4575-c369-9050ebe8556a"
      },
      "execution_count": 7,
      "outputs": [
        {
          "output_type": "stream",
          "name": "stdout",
          "text": [
            "number: 10\n",
            "The sum of 1 to the number is 55\n"
          ]
        }
      ]
    },
    {
      "cell_type": "code",
      "source": [
        "num = 0\n",
        "tot = 0.0\n",
        "\n",
        "while True: \n",
        "    sval = input('enter a number: ')\n",
        "    if sval == 'done': break\n",
        "    try: fval = float(sval)\n",
        "    except:\n",
        "        print('invalid input')\n",
        "        continue\n",
        "    num += 1\n",
        "    tot = tot+fval\n",
        "\n",
        "print(tot, num, tot/num)"
      ],
      "metadata": {
        "colab": {
          "base_uri": "https://localhost:8080/"
        },
        "id": "EvJYgox4cGEr",
        "outputId": "292b7b37-9d0c-4e16-ad09-6cf59897e294"
      },
      "execution_count": 8,
      "outputs": [
        {
          "output_type": "stream",
          "name": "stdout",
          "text": [
            "enter a number: 20\n",
            "enter a number: 5\n",
            "enter a number: 5\n",
            "enter a number: 1\n",
            "enter a number: done\n",
            "31.0 4 7.75\n"
          ]
        }
      ]
    },
    {
      "cell_type": "code",
      "source": [
        "astr = '호'\n",
        "\n",
        "try:\n",
        "    print('Hello')\n",
        "    islnt = int(astr)\n",
        "    print('World')\n",
        "except:\n",
        "    islnt = 'Integer로 변환할 수 없습니다.'\n",
        "\n",
        "print('Done', islnt)"
      ],
      "metadata": {
        "colab": {
          "base_uri": "https://localhost:8080/"
        },
        "id": "UdHYQ9vkcoAO",
        "outputId": "0f62bdc9-3cdc-485d-9af7-833f744ae113"
      },
      "execution_count": 9,
      "outputs": [
        {
          "output_type": "stream",
          "name": "stdout",
          "text": [
            "Hello\n",
            "Done Integer로 변환할 수 없습니다.\n"
          ]
        }
      ]
    },
    {
      "cell_type": "code",
      "source": [
        "astr = '123'\n",
        "\n",
        "try:\n",
        "    print('Hello')\n",
        "    islnt = int(astr)\n",
        "    print('World')\n",
        "except:\n",
        "    islnt = 'Integer로 변환할 수 없습니다.'\n",
        "\n",
        "print('Done', islnt)"
      ],
      "metadata": {
        "colab": {
          "base_uri": "https://localhost:8080/"
        },
        "id": "Ncvhfu1Dez5D",
        "outputId": "09c56107-8a4a-45ca-cbc9-716b4bb2bc73"
      },
      "execution_count": 10,
      "outputs": [
        {
          "output_type": "stream",
          "name": "stdout",
          "text": [
            "Hello\n",
            "World\n",
            "Done 123\n"
          ]
        }
      ]
    }
  ]
}