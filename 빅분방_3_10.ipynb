{
  "nbformat": 4,
  "nbformat_minor": 0,
  "metadata": {
    "colab": {
      "name": "빅분방_3/10",
      "provenance": [],
      "authorship_tag": "ABX9TyNMxmm+4yArtBqvHbwN6coG",
      "include_colab_link": true
    },
    "kernelspec": {
      "name": "python3",
      "display_name": "Python 3"
    },
    "language_info": {
      "name": "python"
    }
  },
  "cells": [
    {
      "cell_type": "markdown",
      "metadata": {
        "id": "view-in-github",
        "colab_type": "text"
      },
      "source": [
        "<a href=\"https://colab.research.google.com/github/sbbwoy/BDA/blob/main/%EB%B9%85%EB%B6%84%EB%B0%A9_3_10.ipynb\" target=\"_parent\"><img src=\"https://colab.research.google.com/assets/colab-badge.svg\" alt=\"Open In Colab\"/></a>"
      ]
    },
    {
      "cell_type": "markdown",
      "source": [
        "##모집단, 표본\n",
        "\n",
        "1. 표본의 대표성\n",
        "\n",
        "    a. random sample!\n",
        "    \n",
        "        모집단에 속한 모든 구성원이 뽑힐 확률이 같아야 함. \n",
        "        선택이 독립이어야 함. \n",
        "        온라인 투표와 같은 '자발적 참여'가 표본에 속하는 여부를 결정하는 투표는 아무 의미가 없다.\n",
        "\n",
        "2. 선거 결과와 여론조사의 차이\n",
        "\n",
        "        작은 표본 수로 인한 부정확성\n",
        "        실제 투표인구의 의견과 여론조사의 의견은 차이가 있을 수 있음\n",
        "\n",
        "3. 출구조사\n",
        "\n",
        "        실제 투표한 사람을 대상으로 조사 -> 예측 정확성 높음\n",
        "        사전투표의 경우, 출구조사가 없음\n",
        "        본투표를 한 사람만을 대상으로 함 (지난 대선의 경우 출구조사가 50%)\n",
        "\n",
        "4. 당선예측\n",
        "\n",
        "    a. 모집단의 절반에 대해서는 정보가 없음\n",
        "        \n",
        "        1) 사전투표의 분포와 본투표의 분포가 같다.\n",
        "            인구정보 (연령, 성별, 지역 등으로 보정)\n",
        "        2) 사전투표의 분포와 본투표의 분포가 다르다.\n",
        "            과거의 자료나 사전투표한 사람들은 대상으로 하는 설문조사\n"
      ],
      "metadata": {
        "id": "PGyTuTSM7lLY"
      }
    },
    {
      "cell_type": "markdown",
      "source": [
        "##5. Packages(module)\n",
        "\n",
        "a) numpy, pandas\n",
        "    \n",
        "    배열을 다루는 패키지\n",
        "\n",
        "b) matplotlib, seaborn\n",
        "    \n",
        "    머신러닝을 위한 패키지, visualization tool\n",
        "\n",
        "c) Sklearn, Tensorflow\n",
        "    \n",
        "    머신러닝을 위한 패키지"
      ],
      "metadata": {
        "id": "wM9ZxWQhEad7"
      }
    },
    {
      "cell_type": "markdown",
      "source": [
        "##6. 자료구조\n",
        "\n",
        "1) 리스트(list)"
      ],
      "metadata": {
        "id": "j49VzlJkGDLw"
      }
    },
    {
      "cell_type": "code",
      "execution_count": 1,
      "metadata": {
        "colab": {
          "base_uri": "https://localhost:8080/"
        },
        "id": "6gts6uFH7hMx",
        "outputId": "103f5e49-ac9b-4505-99d2-fda1d55020d5"
      },
      "outputs": [
        {
          "output_type": "execute_result",
          "data": {
            "text/plain": [
              "[1, 2, 3, 4, 5]"
            ]
          },
          "metadata": {},
          "execution_count": 1
        }
      ],
      "source": [
        "#리스트 생성\n",
        "sample_list = [1, 2, 3, 4, 5]\n",
        "sample_list"
      ]
    },
    {
      "cell_type": "code",
      "source": [
        "#인덱싱과 슬라이싱\n",
        "print(sample_list[0], sample_list[-1])"
      ],
      "metadata": {
        "colab": {
          "base_uri": "https://localhost:8080/"
        },
        "id": "DwILxfojGldg",
        "outputId": "4db41105-ba9a-4792-ea8d-e323491de9a0"
      },
      "execution_count": 2,
      "outputs": [
        {
          "output_type": "stream",
          "name": "stdout",
          "text": [
            "1 5\n"
          ]
        }
      ]
    }
  ]
}